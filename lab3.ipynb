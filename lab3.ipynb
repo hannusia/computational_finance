{
 "cells": [
  {
   "cell_type": "code",
   "execution_count": 1,
   "metadata": {},
   "outputs": [],
   "source": [
    "from scipy.stats import norm\n",
    "import numpy as np"
   ]
  },
  {
   "cell_type": "code",
   "execution_count": 2,
   "metadata": {},
   "outputs": [],
   "source": [
    "S = 100\n",
    "E = 100\n",
    "T = 1\n",
    "r = 0.05\n",
    "sigma = 0.2\n",
    "mu = 0.1"
   ]
  },
  {
   "cell_type": "code",
   "execution_count": 3,
   "metadata": {},
   "outputs": [],
   "source": [
    "def black_scholes(S, K, T, r, sigma, type=\"call\", t=0):\n",
    "    d1 = (np.log(S / K) + (r + (sigma ** 2) / 2) * (T - t)) / (sigma * np.sqrt(T - t))\n",
    "    d2 = d1 - sigma * np.sqrt(T - t)\n",
    "\n",
    "    if type == \"call\":\n",
    "        return S * norm.cdf(d1) - K * np.exp(-r * (T - t)) * norm.cdf(d2)\n",
    "    if type == \"put\":\n",
    "        return -S * norm.cdf(-d1) + K * np.exp(-r * (T - t)) * norm.cdf(-d2)"
   ]
  },
  {
   "cell_type": "code",
   "execution_count": 4,
   "metadata": {},
   "outputs": [],
   "source": [
    "def binomial_method(S, E, r, sigma, T, market = \"eu\", option_type=\"call\", steps = 100):\n",
    "    R = np.exp(r * (T / steps))\n",
    "    Rinv = 1.0 / R\n",
    "\n",
    "    # розраховуємо u, d, p\n",
    "    u = np.exp(sigma * np.sqrt(T / steps))\n",
    "    d = 1.0 / u\n",
    "    p_up = (R - d) / (u - d)\n",
    "    p_down = 1.0 - p_up\n",
    "\n",
    "    # розраховуємо ціни активу на кожному кроці\n",
    "    prices = np.zeros(steps + 1)\n",
    "    prices[0] = S * (d ** steps)\n",
    "    for i in range(1, steps + 1):\n",
    "        prices[i] = prices[i - 1] * (u * u)\n",
    "    \n",
    "    if option_type == \"call\":\n",
    "        values = np.maximum(0, prices - E)\n",
    "    else:\n",
    "        values = np.maximum(0, E - prices)\n",
    "\n",
    "    # рекурентно обчилюємо значення V_0\n",
    "    if market == \"eu\":\n",
    "        for step in range(steps - 1, -1, -1):\n",
    "            for i in range(step + 1):\n",
    "                values[i] = (p_up * values[i + 1] + p_down * values[i]) * Rinv\n",
    "    \n",
    "    if market == \"us\":\n",
    "        for step in range(steps - 1, -1, -1):\n",
    "            for i in range(step + 1):\n",
    "                values[i] = (p_up * values[i + 1] + p_down * values[i]) * Rinv\n",
    "                prices[i] = d * prices[i + 1]\n",
    "                if option_type == \"call\":\n",
    "                    values[i] = max(values[i], prices[i] - E)\n",
    "                else:\n",
    "                    values[i] = max(values[i], E - prices[i])\n",
    "    \n",
    "    return values[0]\n"
   ]
  },
  {
   "cell_type": "code",
   "execution_count": 5,
   "metadata": {},
   "outputs": [],
   "source": [
    "european_call = binomial_method(S, E, r, sigma, T, market = \"eu\", option_type=\"call\")\n",
    "european_put = binomial_method(S, E, r, sigma, T, market = \"eu\", option_type=\"put\")"
   ]
  },
  {
   "cell_type": "code",
   "execution_count": 6,
   "metadata": {},
   "outputs": [],
   "source": [
    "call_price = black_scholes(S, E, T, r, sigma, 'call')\n",
    "put_price = black_scholes(S, E, T, r, sigma, 'put')"
   ]
  },
  {
   "cell_type": "code",
   "execution_count": 7,
   "metadata": {},
   "outputs": [
    {
     "data": {
      "text/plain": [
       "(10.450583572185565, 5.573526022256971)"
      ]
     },
     "execution_count": 7,
     "metadata": {},
     "output_type": "execute_result"
    }
   ],
   "source": [
    "call_price, put_price"
   ]
  },
  {
   "cell_type": "code",
   "execution_count": 8,
   "metadata": {},
   "outputs": [
    {
     "data": {
      "text/plain": [
       "(10.430611662249516, 5.553554112321299)"
      ]
     },
     "execution_count": 8,
     "metadata": {},
     "output_type": "execute_result"
    }
   ],
   "source": [
    "european_call, european_put"
   ]
  },
  {
   "cell_type": "code",
   "execution_count": 9,
   "metadata": {},
   "outputs": [],
   "source": [
    "american_call = binomial_method(S, E, r, sigma, T, market = \"us\", option_type=\"call\")\n",
    "american_put = binomial_method(S, E, r, sigma, T, market = \"us\", option_type=\"put\")"
   ]
  },
  {
   "cell_type": "code",
   "execution_count": 10,
   "metadata": {},
   "outputs": [
    {
     "data": {
      "text/plain": [
       "(10.430611662249516, 6.082354409142225)"
      ]
     },
     "execution_count": 10,
     "metadata": {},
     "output_type": "execute_result"
    }
   ],
   "source": [
    "american_call, american_put"
   ]
  }
 ],
 "metadata": {
  "kernelspec": {
   "display_name": "Python 3",
   "language": "python",
   "name": "python3"
  },
  "language_info": {
   "codemirror_mode": {
    "name": "ipython",
    "version": 3
   },
   "file_extension": ".py",
   "mimetype": "text/x-python",
   "name": "python",
   "nbconvert_exporter": "python",
   "pygments_lexer": "ipython3",
   "version": "3.12.7 (main, Oct  1 2024, 11:15:50) [GCC 14.2.1 20240910]"
  },
  "orig_nbformat": 4,
  "vscode": {
   "interpreter": {
    "hash": "767d51c1340bd893661ea55ea3124f6de3c7a262a8b4abca0554b478b1e2ff90"
   }
  }
 },
 "nbformat": 4,
 "nbformat_minor": 2
}
