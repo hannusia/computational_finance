{
 "cells": [
  {
   "cell_type": "code",
   "execution_count": 1,
   "metadata": {},
   "outputs": [],
   "source": [
    "from scipy.stats import norm\n",
    "import numpy as np"
   ]
  },
  {
   "cell_type": "code",
   "execution_count": 2,
   "metadata": {},
   "outputs": [],
   "source": [
    "S = 100\n",
    "E = 100\n",
    "T = 1\n",
    "r = 0.05\n",
    "sigma = 0.2\n",
    "mu = 0.1"
   ]
  },
  {
   "cell_type": "code",
   "execution_count": 3,
   "metadata": {},
   "outputs": [],
   "source": [
    "def black_scholes(S, K, T, r, sigma, type=\"call\", t=0):\n",
    "    d1 = (np.log(S / K) + (r + (sigma ** 2) / 2) * (T - t)) / (sigma * np.sqrt(T - t))\n",
    "    d2 = d1 - sigma * np.sqrt(T - t)\n",
    "\n",
    "    if type == \"call\":\n",
    "        return S * norm.cdf(d1) - K * np.exp(-r * (T - t)) * norm.cdf(d2)\n",
    "    if type == \"put\":\n",
    "        return -S * norm.cdf(-d1) + K * np.exp(-r * (T - t)) * norm.cdf(-d2)"
   ]
  },
  {
   "cell_type": "code",
   "execution_count": 4,
   "metadata": {},
   "outputs": [
    {
     "name": "stdout",
     "output_type": "stream",
     "text": [
      "Call price: 10.45\n",
      "Put price: 5.57\n"
     ]
    }
   ],
   "source": [
    "call_price = black_scholes(S, E, T, r, sigma, 'call')\n",
    "put_price = black_scholes(S, E, T, r, sigma, 'put')\n",
    "\n",
    "print(f\"Call price: {call_price:.2f}\")\n",
    "print(f\"Put price: {put_price:.2f}\")"
   ]
  },
  {
   "cell_type": "code",
   "execution_count": 13,
   "metadata": {},
   "outputs": [],
   "source": [
    "def monte_carlo(S, E, T, r, sigma, mu, option_type=\"call\", iterations = 100000):\n",
    "    W = np.random.standard_normal(iterations)\n",
    "    ST = S * np.exp((r - 0.5 * sigma ** 2) * T + sigma * np.sqrt(T) * W)\n",
    "\n",
    "    if option_type == \"call\":\n",
    "        payoffs = np.maximum(ST - E, 0)\n",
    "    elif option_type == \"put\":\n",
    "        payoffs = np.maximum(E - ST, 0)\n",
    "\n",
    "    option_price = np.exp(-r * T) * np.mean(payoffs)\n",
    "\n",
    "    return option_price"
   ]
  },
  {
   "cell_type": "code",
   "execution_count": 14,
   "metadata": {},
   "outputs": [
    {
     "name": "stdout",
     "output_type": "stream",
     "text": [
      "Call price: 10.42\n",
      "Put price: 5.57\n"
     ]
    }
   ],
   "source": [
    "call_price = monte_carlo(S, E, T, r, sigma, mu, 'call')\n",
    "put_price = monte_carlo(S, E, T, r, sigma, mu, 'put')\n",
    "\n",
    "print(f\"Call price: {call_price:.2f}\")\n",
    "print(f\"Put price: {put_price:.2f}\")"
   ]
  }
 ],
 "metadata": {
  "kernelspec": {
   "display_name": "Python 3",
   "language": "python",
   "name": "python3"
  },
  "language_info": {
   "codemirror_mode": {
    "name": "ipython",
    "version": 3
   },
   "file_extension": ".py",
   "mimetype": "text/x-python",
   "name": "python",
   "nbconvert_exporter": "python",
   "pygments_lexer": "ipython3",
   "version": "3.12.7"
  },
  "orig_nbformat": 4,
  "vscode": {
   "interpreter": {
    "hash": "767d51c1340bd893661ea55ea3124f6de3c7a262a8b4abca0554b478b1e2ff90"
   }
  }
 },
 "nbformat": 4,
 "nbformat_minor": 2
}
